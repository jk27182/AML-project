{
 "cells": [
  {
   "cell_type": "code",
   "execution_count": null,
   "metadata": {},
   "outputs": [],
   "source": [
    "from pathlib import Path"
   ]
  },
  {
   "cell_type": "code",
   "execution_count": null,
   "metadata": {},
   "outputs": [],
   "source": [
    "for model in ['Logistic Regression', 'EBM']:\n",
    "    files = [file.name.split('.')[0] for file in Path(f'../plots/{model}').iterdir() if file.name != '.DS_Store']\n",
    "    latex_code = []\n",
    "    \n",
    "    for file_name in files:\n",
    "        caption = '{'+model+ '-' + file_name + '}'\n",
    "        caption  = caption.replace('_', '-')\n",
    "        latex_picture = f'''\\\\begin{{figure}}[H]\n",
    "            \\centering\n",
    "            \\includegraphics[width=0.8\\\\textwidth]{'{plots/'+ model +'/'+file_name + '.png}'}\n",
    "            \\caption{'{' + model + ' Feature Contribution: ' + file_name.replace('_','-')+ '}'}\n",
    "            \\label{'{fig:'+ model + file_name + '}'}\n",
    "        \\end{{figure}}\n",
    "        \n",
    "        '''\n",
    "        latex_code.append(latex_picture)\n",
    "        print(caption)\n",
    "    Path(f'../plots/{model}/all').mkdir(exist_ok=True)\n",
    "    with open(f'../plots/{model}/all/latex_code_{model}.txt', 'w') as file:\n",
    "        file.writelines(latex_code)"
   ]
  }
 ],
 "metadata": {
  "kernelspec": {
   "display_name": ".venv",
   "language": "python",
   "name": "python3"
  },
  "language_info": {
   "codemirror_mode": {
    "name": "ipython",
    "version": 3
   },
   "file_extension": ".py",
   "mimetype": "text/x-python",
   "name": "python",
   "nbconvert_exporter": "python",
   "pygments_lexer": "ipython3",
   "version": "3.11.5"
  },
  "orig_nbformat": 4
 },
 "nbformat": 4,
 "nbformat_minor": 2
}
