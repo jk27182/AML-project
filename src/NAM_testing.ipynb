{
 "cells": [
  {
   "cell_type": "code",
   "execution_count": 6,
   "metadata": {},
   "outputs": [],
   "source": [
    "import pickle\n",
    "import time\n",
    "import datetime\n",
    "\n",
    "import pandas as pd\n",
    "import numpy as np\n",
    "import optuna\n",
    "\n",
    "import torch\n",
    "from ray import tune\n",
    "\n",
    "from nam.data import NAMDataset, FoldedDataset, load_sklearn_housing_data, load_breast_data\n",
    "from nam.config import defaults\n",
    "from nam.models import NAM\n",
    "from nam.models import get_num_units\n",
    "from nam.trainer import LitNAM, Trainer\n",
    "from nam.types import Config\n",
    "from nam.utils import parse_args\n",
    "from nam.utils import plot_mean_feature_importance\n",
    "from nam.utils import plot_nams\n",
    "import pytorch_lightning as pl\n",
    "from pytorch_lightning.loggers import TensorBoardLogger\n",
    "from pytorch_lightning.callbacks.model_checkpoint import ModelCheckpoint"
   ]
  },
  {
   "cell_type": "code",
   "execution_count": 7,
   "metadata": {},
   "outputs": [],
   "source": [
    "with open('../data/clean_data.pickle', 'rb') as file:\n",
    "    data_dict = pickle.load(file)\n",
    "\n",
    "y = data_dict['y']#.head(100)\n",
    "X = data_dict['X']#.head(100)"
   ]
  },
  {
   "cell_type": "code",
   "execution_count": 8,
   "metadata": {},
   "outputs": [
    {
     "data": {
      "text/html": [
       "<div>\n",
       "<style scoped>\n",
       "    .dataframe tbody tr th:only-of-type {\n",
       "        vertical-align: middle;\n",
       "    }\n",
       "\n",
       "    .dataframe tbody tr th {\n",
       "        vertical-align: top;\n",
       "    }\n",
       "\n",
       "    .dataframe thead th {\n",
       "        text-align: right;\n",
       "    }\n",
       "</style>\n",
       "<table border=\"1\" class=\"dataframe\">\n",
       "  <thead>\n",
       "    <tr style=\"text-align: right;\">\n",
       "      <th></th>\n",
       "      <th>CutoffLTV</th>\n",
       "      <th>CutoffDSCR</th>\n",
       "      <th>CutoffCpn</th>\n",
       "      <th>log_bal</th>\n",
       "      <th>fixed</th>\n",
       "      <th>buildingage</th>\n",
       "      <th>CutoffOcc</th>\n",
       "      <th>Size</th>\n",
       "      <th>OVER_w</th>\n",
       "      <th>past_over</th>\n",
       "      <th>...</th>\n",
       "      <th>year_priced_2019.0</th>\n",
       "      <th>year_priced_2020.0</th>\n",
       "      <th>year_priced_2021.0</th>\n",
       "      <th>type_AGENCY-DUS</th>\n",
       "      <th>type_Agency</th>\n",
       "      <th>type_Conduit</th>\n",
       "      <th>type_Large Loan</th>\n",
       "      <th>type_Other</th>\n",
       "      <th>type_SASB</th>\n",
       "      <th>type_Small Bal</th>\n",
       "    </tr>\n",
       "  </thead>\n",
       "  <tbody>\n",
       "    <tr>\n",
       "      <th>1</th>\n",
       "      <td>0.664</td>\n",
       "      <td>1.340</td>\n",
       "      <td>4.990</td>\n",
       "      <td>16.518549</td>\n",
       "      <td>0.0</td>\n",
       "      <td>2.944439</td>\n",
       "      <td>0.954</td>\n",
       "      <td>45000.000000</td>\n",
       "      <td>0.102015</td>\n",
       "      <td>0.308108</td>\n",
       "      <td>...</td>\n",
       "      <td>0</td>\n",
       "      <td>0</td>\n",
       "      <td>0</td>\n",
       "      <td>0</td>\n",
       "      <td>1</td>\n",
       "      <td>0</td>\n",
       "      <td>0</td>\n",
       "      <td>0</td>\n",
       "      <td>0</td>\n",
       "      <td>0</td>\n",
       "    </tr>\n",
       "    <tr>\n",
       "      <th>4</th>\n",
       "      <td>0.750</td>\n",
       "      <td>1.316</td>\n",
       "      <td>4.140</td>\n",
       "      <td>14.440914</td>\n",
       "      <td>0.0</td>\n",
       "      <td>2.890372</td>\n",
       "      <td>0.949</td>\n",
       "      <td>10260.000000</td>\n",
       "      <td>0.004555</td>\n",
       "      <td>0.308057</td>\n",
       "      <td>...</td>\n",
       "      <td>0</td>\n",
       "      <td>0</td>\n",
       "      <td>0</td>\n",
       "      <td>0</td>\n",
       "      <td>1</td>\n",
       "      <td>0</td>\n",
       "      <td>0</td>\n",
       "      <td>0</td>\n",
       "      <td>0</td>\n",
       "      <td>0</td>\n",
       "    </tr>\n",
       "    <tr>\n",
       "      <th>6</th>\n",
       "      <td>0.587</td>\n",
       "      <td>1.266</td>\n",
       "      <td>4.410</td>\n",
       "      <td>16.871868</td>\n",
       "      <td>0.0</td>\n",
       "      <td>3.806663</td>\n",
       "      <td>1.000</td>\n",
       "      <td>51217.000000</td>\n",
       "      <td>-0.113601</td>\n",
       "      <td>0.264368</td>\n",
       "      <td>...</td>\n",
       "      <td>1</td>\n",
       "      <td>0</td>\n",
       "      <td>0</td>\n",
       "      <td>0</td>\n",
       "      <td>1</td>\n",
       "      <td>0</td>\n",
       "      <td>0</td>\n",
       "      <td>0</td>\n",
       "      <td>0</td>\n",
       "      <td>0</td>\n",
       "    </tr>\n",
       "    <tr>\n",
       "      <th>7</th>\n",
       "      <td>0.659</td>\n",
       "      <td>1.375</td>\n",
       "      <td>4.010</td>\n",
       "      <td>16.133181</td>\n",
       "      <td>1.0</td>\n",
       "      <td>0.000000</td>\n",
       "      <td>0.962</td>\n",
       "      <td>5187.767090</td>\n",
       "      <td>-0.022408</td>\n",
       "      <td>0.120879</td>\n",
       "      <td>...</td>\n",
       "      <td>0</td>\n",
       "      <td>0</td>\n",
       "      <td>0</td>\n",
       "      <td>0</td>\n",
       "      <td>1</td>\n",
       "      <td>0</td>\n",
       "      <td>0</td>\n",
       "      <td>0</td>\n",
       "      <td>0</td>\n",
       "      <td>0</td>\n",
       "    </tr>\n",
       "    <tr>\n",
       "      <th>8</th>\n",
       "      <td>0.742</td>\n",
       "      <td>1.380</td>\n",
       "      <td>3.790</td>\n",
       "      <td>17.504391</td>\n",
       "      <td>1.0</td>\n",
       "      <td>4.753590</td>\n",
       "      <td>0.924</td>\n",
       "      <td>2491.824707</td>\n",
       "      <td>-0.130943</td>\n",
       "      <td>0.518519</td>\n",
       "      <td>...</td>\n",
       "      <td>0</td>\n",
       "      <td>0</td>\n",
       "      <td>0</td>\n",
       "      <td>0</td>\n",
       "      <td>1</td>\n",
       "      <td>0</td>\n",
       "      <td>0</td>\n",
       "      <td>0</td>\n",
       "      <td>0</td>\n",
       "      <td>0</td>\n",
       "    </tr>\n",
       "    <tr>\n",
       "      <th>...</th>\n",
       "      <td>...</td>\n",
       "      <td>...</td>\n",
       "      <td>...</td>\n",
       "      <td>...</td>\n",
       "      <td>...</td>\n",
       "      <td>...</td>\n",
       "      <td>...</td>\n",
       "      <td>...</td>\n",
       "      <td>...</td>\n",
       "      <td>...</td>\n",
       "      <td>...</td>\n",
       "      <td>...</td>\n",
       "      <td>...</td>\n",
       "      <td>...</td>\n",
       "      <td>...</td>\n",
       "      <td>...</td>\n",
       "      <td>...</td>\n",
       "      <td>...</td>\n",
       "      <td>...</td>\n",
       "      <td>...</td>\n",
       "      <td>...</td>\n",
       "    </tr>\n",
       "    <tr>\n",
       "      <th>40038</th>\n",
       "      <td>0.700</td>\n",
       "      <td>1.580</td>\n",
       "      <td>3.830</td>\n",
       "      <td>13.840203</td>\n",
       "      <td>1.0</td>\n",
       "      <td>2.890372</td>\n",
       "      <td>0.943</td>\n",
       "      <td>4960.000000</td>\n",
       "      <td>-0.024262</td>\n",
       "      <td>0.000000</td>\n",
       "      <td>...</td>\n",
       "      <td>0</td>\n",
       "      <td>1</td>\n",
       "      <td>0</td>\n",
       "      <td>0</td>\n",
       "      <td>0</td>\n",
       "      <td>1</td>\n",
       "      <td>0</td>\n",
       "      <td>0</td>\n",
       "      <td>0</td>\n",
       "      <td>0</td>\n",
       "    </tr>\n",
       "    <tr>\n",
       "      <th>40040</th>\n",
       "      <td>0.743</td>\n",
       "      <td>1.570</td>\n",
       "      <td>5.910</td>\n",
       "      <td>15.800641</td>\n",
       "      <td>1.0</td>\n",
       "      <td>2.944439</td>\n",
       "      <td>0.983</td>\n",
       "      <td>55199.000000</td>\n",
       "      <td>-0.283679</td>\n",
       "      <td>0.316291</td>\n",
       "      <td>...</td>\n",
       "      <td>0</td>\n",
       "      <td>0</td>\n",
       "      <td>0</td>\n",
       "      <td>0</td>\n",
       "      <td>0</td>\n",
       "      <td>1</td>\n",
       "      <td>0</td>\n",
       "      <td>0</td>\n",
       "      <td>0</td>\n",
       "      <td>0</td>\n",
       "    </tr>\n",
       "    <tr>\n",
       "      <th>40041</th>\n",
       "      <td>0.642</td>\n",
       "      <td>1.318</td>\n",
       "      <td>3.948</td>\n",
       "      <td>17.448877</td>\n",
       "      <td>1.0</td>\n",
       "      <td>1.609438</td>\n",
       "      <td>0.984</td>\n",
       "      <td>11070.000000</td>\n",
       "      <td>-0.049587</td>\n",
       "      <td>0.118774</td>\n",
       "      <td>...</td>\n",
       "      <td>0</td>\n",
       "      <td>0</td>\n",
       "      <td>0</td>\n",
       "      <td>0</td>\n",
       "      <td>0</td>\n",
       "      <td>1</td>\n",
       "      <td>0</td>\n",
       "      <td>0</td>\n",
       "      <td>0</td>\n",
       "      <td>0</td>\n",
       "    </tr>\n",
       "    <tr>\n",
       "      <th>40042</th>\n",
       "      <td>0.732</td>\n",
       "      <td>1.900</td>\n",
       "      <td>4.838</td>\n",
       "      <td>16.491037</td>\n",
       "      <td>1.0</td>\n",
       "      <td>0.693147</td>\n",
       "      <td>0.985</td>\n",
       "      <td>6192.481445</td>\n",
       "      <td>-0.125048</td>\n",
       "      <td>0.181729</td>\n",
       "      <td>...</td>\n",
       "      <td>0</td>\n",
       "      <td>0</td>\n",
       "      <td>0</td>\n",
       "      <td>0</td>\n",
       "      <td>1</td>\n",
       "      <td>0</td>\n",
       "      <td>0</td>\n",
       "      <td>0</td>\n",
       "      <td>0</td>\n",
       "      <td>0</td>\n",
       "    </tr>\n",
       "    <tr>\n",
       "      <th>40044</th>\n",
       "      <td>0.531</td>\n",
       "      <td>1.215</td>\n",
       "      <td>4.580</td>\n",
       "      <td>17.425564</td>\n",
       "      <td>0.0</td>\n",
       "      <td>3.465736</td>\n",
       "      <td>1.000</td>\n",
       "      <td>5033.000000</td>\n",
       "      <td>-0.126310</td>\n",
       "      <td>0.271739</td>\n",
       "      <td>...</td>\n",
       "      <td>0</td>\n",
       "      <td>0</td>\n",
       "      <td>0</td>\n",
       "      <td>0</td>\n",
       "      <td>1</td>\n",
       "      <td>0</td>\n",
       "      <td>0</td>\n",
       "      <td>0</td>\n",
       "      <td>0</td>\n",
       "      <td>0</td>\n",
       "    </tr>\n",
       "  </tbody>\n",
       "</table>\n",
       "<p>25466 rows × 50 columns</p>\n",
       "</div>"
      ],
      "text/plain": [
       "       CutoffLTV  CutoffDSCR  CutoffCpn    log_bal  fixed  buildingage  \\\n",
       "1          0.664       1.340      4.990  16.518549    0.0     2.944439   \n",
       "4          0.750       1.316      4.140  14.440914    0.0     2.890372   \n",
       "6          0.587       1.266      4.410  16.871868    0.0     3.806663   \n",
       "7          0.659       1.375      4.010  16.133181    1.0     0.000000   \n",
       "8          0.742       1.380      3.790  17.504391    1.0     4.753590   \n",
       "...          ...         ...        ...        ...    ...          ...   \n",
       "40038      0.700       1.580      3.830  13.840203    1.0     2.890372   \n",
       "40040      0.743       1.570      5.910  15.800641    1.0     2.944439   \n",
       "40041      0.642       1.318      3.948  17.448877    1.0     1.609438   \n",
       "40042      0.732       1.900      4.838  16.491037    1.0     0.693147   \n",
       "40044      0.531       1.215      4.580  17.425564    0.0     3.465736   \n",
       "\n",
       "       CutoffOcc          Size    OVER_w  past_over  ...  year_priced_2019.0  \\\n",
       "1          0.954  45000.000000  0.102015   0.308108  ...                   0   \n",
       "4          0.949  10260.000000  0.004555   0.308057  ...                   0   \n",
       "6          1.000  51217.000000 -0.113601   0.264368  ...                   1   \n",
       "7          0.962   5187.767090 -0.022408   0.120879  ...                   0   \n",
       "8          0.924   2491.824707 -0.130943   0.518519  ...                   0   \n",
       "...          ...           ...       ...        ...  ...                 ...   \n",
       "40038      0.943   4960.000000 -0.024262   0.000000  ...                   0   \n",
       "40040      0.983  55199.000000 -0.283679   0.316291  ...                   0   \n",
       "40041      0.984  11070.000000 -0.049587   0.118774  ...                   0   \n",
       "40042      0.985   6192.481445 -0.125048   0.181729  ...                   0   \n",
       "40044      1.000   5033.000000 -0.126310   0.271739  ...                   0   \n",
       "\n",
       "       year_priced_2020.0  year_priced_2021.0  type_AGENCY-DUS  type_Agency  \\\n",
       "1                       0                   0                0            1   \n",
       "4                       0                   0                0            1   \n",
       "6                       0                   0                0            1   \n",
       "7                       0                   0                0            1   \n",
       "8                       0                   0                0            1   \n",
       "...                   ...                 ...              ...          ...   \n",
       "40038                   1                   0                0            0   \n",
       "40040                   0                   0                0            0   \n",
       "40041                   0                   0                0            0   \n",
       "40042                   0                   0                0            1   \n",
       "40044                   0                   0                0            1   \n",
       "\n",
       "       type_Conduit  type_Large Loan  type_Other  type_SASB  type_Small Bal  \n",
       "1                 0                0           0          0               0  \n",
       "4                 0                0           0          0               0  \n",
       "6                 0                0           0          0               0  \n",
       "7                 0                0           0          0               0  \n",
       "8                 0                0           0          0               0  \n",
       "...             ...              ...         ...        ...             ...  \n",
       "40038             1                0           0          0               0  \n",
       "40040             1                0           0          0               0  \n",
       "40041             1                0           0          0               0  \n",
       "40042             0                0           0          0               0  \n",
       "40044             0                0           0          0               0  \n",
       "\n",
       "[25466 rows x 50 columns]"
      ]
     },
     "execution_count": 8,
     "metadata": {},
     "output_type": "execute_result"
    }
   ],
   "source": [
    "X"
   ]
  },
  {
   "cell_type": "code",
   "execution_count": 9,
   "metadata": {},
   "outputs": [
    {
     "data": {
      "text/plain": [
       "25466"
      ]
     },
     "execution_count": 9,
     "metadata": {},
     "output_type": "execute_result"
    }
   ],
   "source": [
    "len(X)"
   ]
  },
  {
   "cell_type": "code",
   "execution_count": 10,
   "metadata": {},
   "outputs": [
    {
     "data": {
      "text/plain": [
       "<Axes: >"
      ]
     },
     "execution_count": 10,
     "metadata": {},
     "output_type": "execute_result"
    },
    {
     "data": {
      "image/png": "[encoded data removed]",
      "text/plain": [
       "<Figure size 640x480 with 1 Axes>"
      ]
     },
     "metadata": {},
     "output_type": "display_data"
    }
   ],
   "source": [
    "y.hist()"
   ]
  },
  {
   "cell_type": "code",
   "execution_count": 11,
   "metadata": {},
   "outputs": [
    {
     "data": {
      "text/plain": [
       "namespace(device='cpu',\n",
       "          seed=2021,\n",
       "          data_path='data/GALLUP.csv',\n",
       "          experiment_name='NAM',\n",
       "          regression=False,\n",
       "          num_epochs=1,\n",
       "          lr=0.0003,\n",
       "          batch_size=1024,\n",
       "          logdir='output',\n",
       "          wandb=True,\n",
       "          hidden_sizes=[64, 32],\n",
       "          activation='exu',\n",
       "          optimizer='adam',\n",
       "          dropout=0.5,\n",
       "          feature_dropout=0.5,\n",
       "          decay_rate=0.995,\n",
       "          l2_regularization=0.5,\n",
       "          output_regularization=0.5,\n",
       "          num_basis_functions=1000,\n",
       "          units_multiplier=2,\n",
       "          shuffle=True,\n",
       "          cross_val=False,\n",
       "          num_folds=5,\n",
       "          num_splits=3,\n",
       "          fold_num=1,\n",
       "          num_models=1,\n",
       "          num_workers=16,\n",
       "          save_model_frequency=2,\n",
       "          save_top_k=3,\n",
       "          use_dnn=False,\n",
       "          early_stopping_patience=50)"
      ]
     },
     "execution_count": 11,
     "metadata": {},
     "output_type": "execute_result"
    }
   ],
   "source": [
    "config = defaults()\n",
    "config"
   ]
  },
  {
   "cell_type": "code",
   "execution_count": 12,
   "metadata": {},
   "outputs": [],
   "source": [
    "feature_cols = X.columns\n",
    "X['Distress'] = y.astype(float)\n",
    "\n",
    "config.logdir = 'NAM_testing'\n",
    "config.wandb = False\n",
    "# config.cross_val = True\n",
    "config.cross_val = False # nur fuer den Testdatensatz\n",
    "# Ich brauch FoldedDataset, das macht Cross Validation\n",
    "config.num_epochs = 50\n",
    "nam_dataset = load_breast_data(config)"
   ]
  },
  {
   "cell_type": "code",
   "execution_count": 13,
   "metadata": {},
   "outputs": [
    {
     "data": {
      "text/plain": [
       "'NAM_run_2023-09-07_00-23-23'"
      ]
     },
     "execution_count": 13,
     "metadata": {},
     "output_type": "execute_result"
    }
   ],
   "source": [
    "current_datetime = datetime.datetime.now()\n",
    "formatted_datetime = current_datetime.strftime(\"%Y-%m-%d_%H-%M-%S\")\n",
    "logdir = f\"NAM_run_{formatted_datetime}\"\n",
    "logdir"
   ]
  },
  {
   "cell_type": "code",
   "execution_count": 14,
   "metadata": {},
   "outputs": [
    {
     "name": "stderr",
     "output_type": "stream",
     "text": [
      "/Users/janik/Documents/Master/KIT/Semester 4/Advanced Machine Learning Projekt/.venv/lib/python3.11/site-packages/torch/nn/init.py:176: UserWarning: mean is more than 2 std from [a, b] in nn.init.trunc_normal_. The distribution of values may be incorrect.\n",
      "  return _no_grad_trunc_normal_(tensor, mean, std, a, b)\n",
      "GPU available: True (mps), used: True\n",
      "TPU available: False, using: 0 TPU cores\n",
      "IPU available: False, using: 0 IPUs\n",
      "HPU available: False, using: 0 HPUs\n",
      "GPU available: True (mps), used: True\n",
      "TPU available: False, using: 0 TPU cores\n",
      "IPU available: False, using: 0 IPUs\n",
      "HPU available: False, using: 0 HPUs\n",
      "\n",
      "  | Name  | Type | Params\n",
      "-------------------------------\n",
      "0 | model | NAM  | 641 K \n",
      "-------------------------------\n",
      "641 K     Trainable params\n",
      "0         Non-trainable params\n",
      "641 K     Total params\n",
      "2.566     Total estimated model params size (MB)\n"
     ]
    },
    {
     "data": {
      "application/vnd.jupyter.widget-view+json": {
       "model_id": "91b5e830c5f4434fa36c69008419932c",
       "version_major": 2,
       "version_minor": 0
      },
      "text/plain": [
       "Sanity Checking: 0it [00:00, ?it/s]"
      ]
     },
     "metadata": {},
     "output_type": "display_data"
    },
    {
     "name": "stderr",
     "output_type": "stream",
     "text": [
      "/Users/janik/Documents/Master/KIT/Semester 4/Advanced Machine Learning Projekt/.venv/lib/python3.11/site-packages/pytorch_lightning/trainer/connectors/data_connector.py:442: PossibleUserWarning: The dataloader, val_dataloader, does not have many workers which may be a bottleneck. Consider increasing the value of the `num_workers` argument` (try 8 which is the number of cpus on this machine) in the `DataLoader` init to improve performance.\n",
      "  rank_zero_warn(\n",
      "/Users/janik/Documents/Master/KIT/Semester 4/Advanced Machine Learning Projekt/.venv/lib/python3.11/site-packages/pytorch_lightning/trainer/connectors/data_connector.py:442: PossibleUserWarning: The dataloader, train_dataloader, does not have many workers which may be a bottleneck. Consider increasing the value of the `num_workers` argument` (try 8 which is the number of cpus on this machine) in the `DataLoader` init to improve performance.\n",
      "  rank_zero_warn(\n",
      "/Users/janik/Documents/Master/KIT/Semester 4/Advanced Machine Learning Projekt/.venv/lib/python3.11/site-packages/pytorch_lightning/loops/fit_loop.py:281: PossibleUserWarning: The number of training batches (18) is smaller than the logging interval Trainer(log_every_n_steps=50). Set a lower value for log_every_n_steps if you want to see logs for the training epoch.\n",
      "  rank_zero_warn(\n"
     ]
    },
    {
     "data": {
      "application/vnd.jupyter.widget-view+json": {
       "model_id": "9d613754f36c47a9acbec0bc2ab076de",
       "version_major": 2,
       "version_minor": 0
      },
      "text/plain": [
       "Training: 0it [00:00, ?it/s]"
      ]
     },
     "metadata": {},
     "output_type": "display_data"
    },
    {
     "data": {
      "application/vnd.jupyter.widget-view+json": {
       "model_id": "c6d6587db9054c539fd83d729e2c6078",
       "version_major": 2,
       "version_minor": 0
      },
      "text/plain": [
       "Validation: 0it [00:00, ?it/s]"
      ]
     },
     "metadata": {},
     "output_type": "display_data"
    },
    {
     "data": {
      "application/vnd.jupyter.widget-view+json": {
       "model_id": "b76b094cf0bc45bfbc5649292e780918",
       "version_major": 2,
       "version_minor": 0
      },
      "text/plain": [
       "Validation: 0it [00:00, ?it/s]"
      ]
     },
     "metadata": {},
     "output_type": "display_data"
    },
    {
     "data": {
      "application/vnd.jupyter.widget-view+json": {
       "model_id": "fdd3a5668aec4b5a977227298f863ab8",
       "version_major": 2,
       "version_minor": 0
      },
      "text/plain": [
       "Validation: 0it [00:00, ?it/s]"
      ]
     },
     "metadata": {},
     "output_type": "display_data"
    },
    {
     "data": {
      "application/vnd.jupyter.widget-view+json": {
       "model_id": "c8b19d0d9d884bb7a0b83c25d4c9360b",
       "version_major": 2,
       "version_minor": 0
      },
      "text/plain": [
       "Validation: 0it [00:00, ?it/s]"
      ]
     },
     "metadata": {},
     "output_type": "display_data"
    },
    {
     "data": {
      "application/vnd.jupyter.widget-view+json": {
       "model_id": "d07e1abc418d4a809fba4224166a1a09",
       "version_major": 2,
       "version_minor": 0
      },
      "text/plain": [
       "Validation: 0it [00:00, ?it/s]"
      ]
     },
     "metadata": {},
     "output_type": "display_data"
    },
    {
     "data": {
      "application/vnd.jupyter.widget-view+json": {
       "model_id": "456472f2a0d74d8db095d25639db4b24",
       "version_major": 2,
       "version_minor": 0
      },
      "text/plain": [
       "Validation: 0it [00:00, ?it/s]"
      ]
     },
     "metadata": {},
     "output_type": "display_data"
    },
    {
     "data": {
      "application/vnd.jupyter.widget-view+json": {
       "model_id": "bc487584bfe64e0bb22a1b2fa8c53e5e",
       "version_major": 2,
       "version_minor": 0
      },
      "text/plain": [
       "Validation: 0it [00:00, ?it/s]"
      ]
     },
     "metadata": {},
     "output_type": "display_data"
    },
    {
     "data": {
      "application/vnd.jupyter.widget-view+json": {
       "model_id": "b3a94c4b3e6d4087823a065672ce490f",
       "version_major": 2,
       "version_minor": 0
      },
      "text/plain": [
       "Validation: 0it [00:00, ?it/s]"
      ]
     },
     "metadata": {},
     "output_type": "display_data"
    },
    {
     "data": {
      "application/vnd.jupyter.widget-view+json": {
       "model_id": "41723b7fec364625939292d4ed7f7f2d",
       "version_major": 2,
       "version_minor": 0
      },
      "text/plain": [
       "Validation: 0it [00:00, ?it/s]"
      ]
     },
     "metadata": {},
     "output_type": "display_data"
    },
    {
     "data": {
      "application/vnd.jupyter.widget-view+json": {
       "model_id": "a43e78aeac034aa2ba004df57570ca64",
       "version_major": 2,
       "version_minor": 0
      },
      "text/plain": [
       "Validation: 0it [00:00, ?it/s]"
      ]
     },
     "metadata": {},
     "output_type": "display_data"
    },
    {
     "data": {
      "application/vnd.jupyter.widget-view+json": {
       "model_id": "e3e54c77ae9a4b16ad5ceb4590ac2d45",
       "version_major": 2,
       "version_minor": 0
      },
      "text/plain": [
       "Validation: 0it [00:00, ?it/s]"
      ]
     },
     "metadata": {},
     "output_type": "display_data"
    },
    {
     "data": {
      "application/vnd.jupyter.widget-view+json": {
       "model_id": "78e1304ebde8476aa73544c16e861c21",
       "version_major": 2,
       "version_minor": 0
      },
      "text/plain": [
       "Validation: 0it [00:00, ?it/s]"
      ]
     },
     "metadata": {},
     "output_type": "display_data"
    },
    {
     "data": {
      "application/vnd.jupyter.widget-view+json": {
       "model_id": "36d1953e48c54196997ebe023ee1ca0a",
       "version_major": 2,
       "version_minor": 0
      },
      "text/plain": [
       "Validation: 0it [00:00, ?it/s]"
      ]
     },
     "metadata": {},
     "output_type": "display_data"
    },
    {
     "data": {
      "application/vnd.jupyter.widget-view+json": {
       "model_id": "6bb689d463c84f74be7bb6e08efef325",
       "version_major": 2,
       "version_minor": 0
      },
      "text/plain": [
       "Validation: 0it [00:00, ?it/s]"
      ]
     },
     "metadata": {},
     "output_type": "display_data"
    },
    {
     "data": {
      "application/vnd.jupyter.widget-view+json": {
       "model_id": "beae8e1081244240b3056aa52dd86a95",
       "version_major": 2,
       "version_minor": 0
      },
      "text/plain": [
       "Validation: 0it [00:00, ?it/s]"
      ]
     },
     "metadata": {},
     "output_type": "display_data"
    },
    {
     "data": {
      "application/vnd.jupyter.widget-view+json": {
       "model_id": "30e0f6380a7044b0bfc0c2fa23cfe8de",
       "version_major": 2,
       "version_minor": 0
      },
      "text/plain": [
       "Validation: 0it [00:00, ?it/s]"
      ]
     },
     "metadata": {},
     "output_type": "display_data"
    },
    {
     "data": {
      "application/vnd.jupyter.widget-view+json": {
       "model_id": "e0a396e8e61f418d8f875d6c5d545974",
       "version_major": 2,
       "version_minor": 0
      },
      "text/plain": [
       "Validation: 0it [00:00, ?it/s]"
      ]
     },
     "metadata": {},
     "output_type": "display_data"
    },
    {
     "data": {
      "application/vnd.jupyter.widget-view+json": {
       "model_id": "1ecd3f473fa544ed9610e2bf9e469d11",
       "version_major": 2,
       "version_minor": 0
      },
      "text/plain": [
       "Validation: 0it [00:00, ?it/s]"
      ]
     },
     "metadata": {},
     "output_type": "display_data"
    },
    {
     "data": {
      "application/vnd.jupyter.widget-view+json": {
       "model_id": "ff4efa79182243e2ac3b7db03b9b7f99",
       "version_major": 2,
       "version_minor": 0
      },
      "text/plain": [
       "Validation: 0it [00:00, ?it/s]"
      ]
     },
     "metadata": {},
     "output_type": "display_data"
    },
    {
     "data": {
      "application/vnd.jupyter.widget-view+json": {
       "model_id": "3d29d1c8c1b14ccba11e1051e9fce85d",
       "version_major": 2,
       "version_minor": 0
      },
      "text/plain": [
       "Validation: 0it [00:00, ?it/s]"
      ]
     },
     "metadata": {},
     "output_type": "display_data"
    },
    {
     "data": {
      "application/vnd.jupyter.widget-view+json": {
       "model_id": "f0a7360ff8954c6d9df0c5eb4e1a5957",
       "version_major": 2,
       "version_minor": 0
      },
      "text/plain": [
       "Validation: 0it [00:00, ?it/s]"
      ]
     },
     "metadata": {},
     "output_type": "display_data"
    },
    {
     "data": {
      "application/vnd.jupyter.widget-view+json": {
       "model_id": "9628cc16315d407cada211e648fdf33c",
       "version_major": 2,
       "version_minor": 0
      },
      "text/plain": [
       "Validation: 0it [00:00, ?it/s]"
      ]
     },
     "metadata": {},
     "output_type": "display_data"
    },
    {
     "data": {
      "application/vnd.jupyter.widget-view+json": {
       "model_id": "9e02dc8013d2460c87229e0a2c0c19c8",
       "version_major": 2,
       "version_minor": 0
      },
      "text/plain": [
       "Validation: 0it [00:00, ?it/s]"
      ]
     },
     "metadata": {},
     "output_type": "display_data"
    },
    {
     "name": "stderr",
     "output_type": "stream",
     "text": [
      "/Users/janik/Documents/Master/KIT/Semester 4/Advanced Machine Learning Projekt/.venv/lib/python3.11/site-packages/pytorch_lightning/trainer/call.py:53: UserWarning: Detected KeyboardInterrupt, attempting graceful shutdown...\n",
      "  rank_zero_warn(\"Detected KeyboardInterrupt, attempting graceful shutdown...\")\n"
     ]
    },
    {
     "name": "stdout",
     "output_type": "stream",
     "text": [
      "-------------------------------------------------------------------------\n",
      "metrics {'train_loss': tensor(139.1250, device='mps:0'), 'train_loss_step': tensor(139.1250, device='mps:0'), 'AUROC_metric': tensor(0.4798, device='mps:0'), 'AUROC_metric_step': tensor(0.4798, device='mps:0'), 'val_loss': tensor(140.1230, device='mps:0'), 'val_loss_epoch': tensor(140.1230, device='mps:0'), 'AUROC_metric_epoch': tensor(0.5030, device='mps:0'), 'train_loss_epoch': tensor(140.9560, device='mps:0')}\n",
      "-------------------------------------------------------------------------\n"
     ]
    }
   ],
   "source": [
    "# Neural Additive Model\n",
    "config.logdir = logdir\n",
    "nam_dataset = NAMDataset(\n",
    "    config,\n",
    "    data_path=X,\n",
    "    features_columns=feature_cols,\n",
    "    targets_column='Distress',\n",
    ")\n",
    "nam_model = NAM(\n",
    "    config=config,\n",
    "    name='Testing_NAM',\n",
    "    num_inputs=len(nam_dataset[0][0]),\n",
    "    num_units=get_num_units(config, nam_dataset.features)\n",
    ")\n",
    "data_loaders = nam_dataset.train_dataloaders()\n",
    "for fold, (train_loader, val_loader) in enumerate(data_loaders):\n",
    "     tb_logger = TensorBoardLogger(\n",
    "          save_dir=config.logdir,\n",
    "          name=f'{nam_model.name}',\n",
    "          version=f'fold_{fold + 1}')\n",
    "\n",
    "     checkpoint_callback = ModelCheckpoint(\n",
    "          filename=tb_logger.log_dir + \"/{epoch:02d}-{val_loss:.4f}\",\n",
    "          monitor='val_loss',\n",
    "          save_top_k=config.save_top_k,\n",
    "          mode='min'\n",
    "     )\n",
    "     litmodel = LitNAM(config, nam_model)\n",
    "     pl.Trainer()\n",
    "     trainer = pl.Trainer(\n",
    "          logger=tb_logger,\n",
    "          max_epochs=config.num_epochs,\n",
    "          callbacks=checkpoint_callback,\n",
    "     )\n",
    "     # print('=============================')\n",
    "     # print('=============================')\n",
    "     # print('target_set')\n",
    "     # target_set = [batch[1] for batch in train_loader]\n",
    "     # # target_test = pd.DataFrame(target_set)\n",
    "     # df = pd.DataFrame(torch.cat(target_set))\n",
    "     # print('data lenght', len(df))\n",
    "     # df.hist()\n",
    "     # print('=============================')\n",
    "     trainer.fit(\n",
    "          litmodel,\n",
    "          train_dataloaders=train_loader,\n",
    "          val_dataloaders=val_loader)\n",
    "     print('-------------------------------------------------------------------------')\n",
    "     print('metrics', trainer.callback_metrics)\n",
    "     print('-------------------------------------------------------------------------')"
   ]
  },
  {
   "cell_type": "code",
   "execution_count": 15,
   "metadata": {},
   "outputs": [
    {
     "name": "stderr",
     "output_type": "stream",
     "text": [
      "/Users/janik/Documents/Master/KIT/Semester 4/Advanced Machine Learning Projekt/.venv/lib/python3.11/site-packages/pytorch_lightning/trainer/connectors/data_connector.py:442: PossibleUserWarning: The dataloader, test_dataloader, does not have many workers which may be a bottleneck. Consider increasing the value of the `num_workers` argument` (try 8 which is the number of cpus on this machine) in the `DataLoader` init to improve performance.\n",
      "  rank_zero_warn(\n"
     ]
    },
    {
     "data": {
      "application/vnd.jupyter.widget-view+json": {
       "model_id": "6f870003659c453ba8f8cb281ba5c0fa",
       "version_major": 2,
       "version_minor": 0
      },
      "text/plain": [
       "Testing: 0it [00:00, ?it/s]"
      ]
     },
     "metadata": {},
     "output_type": "display_data"
    },
    {
     "name": "stdout",
     "output_type": "stream",
     "text": [
      "────────────────────────────────────────────────────────────────────────────────────────────────────────────────────────\n",
      "Runningstage.testing metric      DataLoader 0\n",
      "────────────────────────────────────────────────────────────────────────────────────────────────────────────────────────\n",
      "   AUROC_metric_epoch       0.49125969409942627\n",
      "     test_loss_epoch        138.95773315429688\n",
      "────────────────────────────────────────────────────────────────────────────────────────────────────────────────────────\n"
     ]
    },
    {
     "data": {
      "text/plain": [
       "[{'test_loss_epoch': 138.95773315429688,\n",
       "  'AUROC_metric_epoch': 0.49125969409942627}]"
      ]
     },
     "execution_count": 15,
     "metadata": {},
     "output_type": "execute_result"
    }
   ],
   "source": [
    "trainer.test(litmodel, dataloaders=nam_dataset.test_dataloaders())"
   ]
  },
  {
   "cell_type": "code",
   "execution_count": null,
   "metadata": {},
   "outputs": [],
   "source": [
    "trainer.callback_metrics"
   ]
  },
  {
   "cell_type": "code",
   "execution_count": null,
   "metadata": {},
   "outputs": [],
   "source": [
    "feature_cols = X.columns\n",
    "X['Distress'] = y.astype(float)\n",
    "config.logdir = 'NAM_testing'\n",
    "# Ich brauch FoldedDataset, das macht Cross Validation\n",
    "config.cross_val = True\n",
    "\n",
    "def training(cfg):\n",
    "    # Neural Additive Model\n",
    "    config.update(**cfg)\n",
    "    nam_dataset = FoldedDataset(\n",
    "        config,\n",
    "        data_path=X,\n",
    "        features_columns=feature_cols,\n",
    "        targets_column='Distress',\n",
    "    )\n",
    "    nam_model = NAM(\n",
    "        config=config,\n",
    "        name='Testing_NAM',\n",
    "        num_inputs=len(nam_dataset[0][0]),\n",
    "        num_units=get_num_units(config, nam_dataset.features)\n",
    "    )\n",
    "    # NAM Training\n",
    "    data_loaders = nam_dataset.train_dataloaders()\n",
    "    for fold, (train_loader, val_loader) in enumerate(data_loaders):\n",
    "        tb_logger = TensorBoardLogger(\n",
    "            save_dir=config.logdir,\n",
    "            name=f'{nam_model.name}',\n",
    "            version=f'fold_{fold + 1}')\n",
    "\n",
    "        checkpoint_callback = ModelCheckpoint(\n",
    "            filename=tb_logger.log_dir + \"/{epoch:02d}-{val_loss:.4f}\",\n",
    "            monitor='val_loss',\n",
    "            save_top_k=config.save_top_k,\n",
    "            mode='min'\n",
    "        )\n",
    "        litmodel = LitNAM(config, nam_model)\n",
    "        pl.Trainer()\n",
    "        trainer = pl.Trainer(\n",
    "            logger=tb_logger,\n",
    "            max_epochs=config.num_epochs,\n",
    "            callbacks=checkpoint_callback,\n",
    "        )\n",
    "        trainer.fit(\n",
    "            litmodel,\n",
    "            train_dataloaders=train_loader,\n",
    "            val_dataloaders=val_loader)"
   ]
  },
  {
   "cell_type": "code",
   "execution_count": null,
   "metadata": {},
   "outputs": [],
   "source": [
    "if sys.argv[1] == 'NAM':\n",
    "    direction = 'maximimize'\n",
    "    # direction = 'minimize'\n",
    "    study_LR = optuna.create_study(\n",
    "        direction=direction,\n",
    "        # storage=\"mysql://root@localhost/logreg\",\n",
    "        study_name='LogisticRegression_study'\n",
    "    )\n",
    "    objective_LR = partial(objective, clf_type='LogisticRegression', X=X, y=y)\n",
    "    study_LR.optimize(objective_LR, n_trials=n_trials, show_progress_bar=True)\n",
    "\n",
    "    best_params_LR = study_LR.best_params\n",
    "    best_LR_value = study_LR.best_value\n",
    "    with open(f'models/best_params_LR_{direction}.joblib', 'wb') as file:\n",
    "        joblib.dump({'params':best_params_LR, 'auroc_score':best_LR_value}, file)"
   ]
  },
  {
   "cell_type": "code",
   "execution_count": null,
   "metadata": {},
   "outputs": [],
   "source": [
    "def nam_tuning(cfg):\n",
    "    "
   ]
  },
  {
   "cell_type": "code",
   "execution_count": null,
   "metadata": {},
   "outputs": [],
   "source": [
    "# result = tune.Tuner(\n",
    "#     training,\n",
    "#     num_samples=1,\n",
    "#     metric=\"loss\",\n",
    "#     mode=\"min\",\n",
    "#     config={\n",
    "#         \"lr\": tune.loguniform(1e-4, 1e-1),\n",
    "#         \"l2_regularization\": tune.loguniform(0.01, 1.0),\n",
    "#         \"output_regularization\": tune.loguniform(0.01, 1.0),\n",
    "#         \"dropout\": tune.loguniform(0.01, 1.0),\n",
    "#         \"feature_dropout\": tune.loguniform(0.01, 1.0),\n",
    "#         \"batch_size\": tune.choice([128, 512, 1024]),\n",
    "#         \"hidden_sizes\": tune.choice([[], [32], [64, 32]])\n",
    "#     }\n",
    "# )\n",
    "\n"
   ]
  },
  {
   "cell_type": "code",
   "execution_count": null,
   "metadata": {},
   "outputs": [],
   "source": [
    "fig = plot_mean_feature_importance(litmodel.model, nam_dataset)"
   ]
  },
  {
   "cell_type": "code",
   "execution_count": null,
   "metadata": {},
   "outputs": [],
   "source": [
    "# fig = plot_nams(litmodel.model, nam_dataset, num_cols=3)\n",
    "fig = plot_nams(litmodel.model, nam_dataset, num_cols=3)"
   ]
  }
 ],
 "metadata": {
  "kernelspec": {
   "display_name": ".venv",
   "language": "python",
   "name": "python3"
  },
  "language_info": {
   "codemirror_mode": {
    "name": "ipython",
    "version": 3
   },
   "file_extension": ".py",
   "mimetype": "text/x-python",
   "name": "python",
   "nbconvert_exporter": "python",
   "pygments_lexer": "ipython3",
   "version": "3.11.5"
  },
  "orig_nbformat": 4
 },
 "nbformat": 4,
 "nbformat_minor": 2
}
